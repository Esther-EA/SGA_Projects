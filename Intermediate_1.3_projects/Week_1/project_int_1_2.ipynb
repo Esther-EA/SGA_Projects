{
  "nbformat": 4,
  "nbformat_minor": 0,
  "metadata": {
    "colab": {
      "provenance": [],
      "mount_file_id": "1yN4-LKItdDFu2vW9AJasHZ47UUgq7jYr",
      "authorship_tag": "ABX9TyOuNZYK0DBVgO4xdULQd+cl",
      "include_colab_link": true
    },
    "kernelspec": {
      "name": "python3",
      "display_name": "Python 3"
    },
    "language_info": {
      "name": "python"
    }
  },
  "cells": [
    {
      "cell_type": "markdown",
      "metadata": {
        "id": "view-in-github",
        "colab_type": "text"
      },
      "source": [
        "<a href=\"https://colab.research.google.com/github/Esther-EA/SGA_Assignments/blob/master/project_int_1_2.ipynb\" target=\"_parent\"><img src=\"https://colab.research.google.com/assets/colab-badge.svg\" alt=\"Open In Colab\"/></a>"
      ]
    },
    {
      "cell_type": "code",
      "execution_count": 1,
      "metadata": {
        "id": "AXpgVO2X7b8t"
      },
      "outputs": [],
      "source": [
        "from google.colab import drive"
      ]
    },
    {
      "cell_type": "code",
      "source": [
        "%cd /content/drive/MyDrive/intermediate_1.3"
      ],
      "metadata": {
        "colab": {
          "base_uri": "https://localhost:8080/"
        },
        "id": "5to_7iiE7r3x",
        "outputId": "13208aa3-5953-47d5-d570-6ae6e4019d4e"
      },
      "execution_count": 2,
      "outputs": [
        {
          "output_type": "stream",
          "name": "stdout",
          "text": [
            "/content/drive/MyDrive/intermediate_1.3\n"
          ]
        }
      ]
    },
    {
      "cell_type": "markdown",
      "source": [
        "**Create a function that repeats the first 2 letters of a word which will be followed by 3 dots and a space after. the string should be ended with a question mark.**"
      ],
      "metadata": {
        "id": "XkwXLU99E7XR"
      }
    },
    {
      "cell_type": "code",
      "source": [
        "def stutter(name):\n",
        "  stutter=name[0:2]+'...'+name[0:2]+'...'+name+'?'\n",
        "  print(stutter)\n",
        " \n",
        "  \n",
        "stutter('etieno')"
      ],
      "metadata": {
        "colab": {
          "base_uri": "https://localhost:8080/"
        },
        "id": "WBRjgub8Eayg",
        "outputId": "712d0f30-03b3-4374-a080-72451513fb49"
      },
      "execution_count": 3,
      "outputs": [
        {
          "output_type": "stream",
          "name": "stdout",
          "text": [
            "et...et...etieno?\n"
          ]
        }
      ]
    },
    {
      "cell_type": "markdown",
      "source": [
        "**Perform a loop that searches through a string and prints only distinct vowel letters**"
      ],
      "metadata": {
        "id": "yx-Vr_0E0RLa"
      }
    },
    {
      "cell_type": "code",
      "source": [
        "# create vowel function \n",
        "def find_vowel(arg):\n",
        "  vow=['a','e','i','o','u', 'A', 'E', 'I', 'O', 'U']\n",
        "  word=''\n",
        "  for w in vow:\n",
        "    for x in arg:\n",
        "      if w == x:\n",
        "          word=word+ w\n",
        "          # print(w)\n",
        "    \n",
        "  if word=='':\n",
        "    word='None'\n",
        "  print(word)\n",
        "  \n",
        "find_vowel('empower')\n",
        "    \n"
      ],
      "metadata": {
        "colab": {
          "base_uri": "https://localhost:8080/"
        },
        "id": "tHyRPF_oK0U9",
        "outputId": "10339abe-13e9-4a84-e4d9-7bab86389319"
      },
      "execution_count": 6,
      "outputs": [
        {
          "output_type": "stream",
          "name": "stdout",
          "text": [
            "eeo\n"
          ]
        }
      ]
    },
    {
      "cell_type": "markdown",
      "source": [
        "**Perform a while loop that requests for a name, if that name is entered, it will be printed else, if user types 'end' (this command should be case insensitive) the while loop should be terminated**"
      ],
      "metadata": {
        "id": "iMAMioXlZz-H"
      }
    },
    {
      "cell_type": "code",
      "source": [
        "user_name = True\n",
        "while user_name:\n",
        "     name = input(\"Enter your name here: \")\n",
        "     if name.lower() == \"end\": # This line helps to make the \"end\" case insensitive!!\n",
        "        user_name = False\n",
        "    \n",
        " "
      ],
      "metadata": {
        "colab": {
          "base_uri": "https://localhost:8080/"
        },
        "id": "tQeo5A2_6hw6",
        "outputId": "dd28a63d-6076-4f73-f394-dc988a1fad17"
      },
      "execution_count": 5,
      "outputs": [
        {
          "output_type": "stream",
          "name": "stdout",
          "text": [
            "eeo\n"
          ]
        }
      ]
    }
  ]
}