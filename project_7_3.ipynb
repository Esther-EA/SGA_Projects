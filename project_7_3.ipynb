{
  "cells": [
    {
      "cell_type": "markdown",
      "metadata": {
        "id": "view-in-github",
        "colab_type": "text"
      },
      "source": [
        "<a href=\"https://colab.research.google.com/github/Esther-EA/SGA_Assignments/blob/master/project_7_3.ipynb\" target=\"_parent\"><img src=\"https://colab.research.google.com/assets/colab-badge.svg\" alt=\"Open In Colab\"/></a>"
      ]
    },
    {
      "cell_type": "code",
      "execution_count": 15,
      "metadata": {
        "colab": {
          "base_uri": "https://localhost:8080/"
        },
        "id": "fVWoeF-90nGL",
        "outputId": "4f2b78c1-62d9-407b-c5cc-5821dd06e133"
      },
      "outputs": [
        {
          "output_type": "stream",
          "name": "stdout",
          "text": [
            "Drive already mounted at /content/drive; to attempt to forcibly remount, call drive.mount(\"/content/drive\", force_remount=True).\n"
          ]
        }
      ],
      "source": [
        "from google.colab import drive\n",
        "drive.mount('/content/drive')"
      ]
    },
    {
      "cell_type": "code",
      "execution_count": 2,
      "metadata": {
        "colab": {
          "base_uri": "https://localhost:8080/"
        },
        "id": "yL12ytPH1a4D",
        "outputId": "31c57ee1-615d-4d63-8353-9e44fa443411"
      },
      "outputs": [
        {
          "output_type": "stream",
          "name": "stdout",
          "text": [
            "/content/drive/MyDrive/Pandas_INTRO\n"
          ]
        }
      ],
      "source": [
        "%cd /content/drive/MyDrive/Pandas_INTRO"
      ]
    },
    {
      "cell_type": "code",
      "execution_count": 3,
      "metadata": {
        "id": "VJ-N66GB72KD"
      },
      "outputs": [],
      "source": [
        "import pandas as pd\n",
        "import matplotlib \n",
        "from matplotlib import pyplot as plt"
      ]
    },
    {
      "cell_type": "code",
      "execution_count": 4,
      "metadata": {
        "colab": {
          "base_uri": "https://localhost:8080/",
          "height": 394
        },
        "id": "9cd0aJQ41nh7",
        "outputId": "e8cc1ca3-a23d-40b7-da12-9971a6e9de33"
      },
      "outputs": [
        {
          "output_type": "execute_result",
          "data": {
            "text/plain": [
              "    x1     y1  x2    y2  x3     y3  x4     y4\n",
              "0   10   8.04  10  9.14  10   7.46   8   6.58\n",
              "1    8   6.95   8  8.14   8   6.77   8   5.76\n",
              "2   13   7.58  13  8.74  13  12.74   8   7.71\n",
              "3    9   8.81   9  8.77   9   7.11   8   8.84\n",
              "4   11   8.33  11  9.26  11   7.81   8   8.47\n",
              "5   14   9.96  14  8.10  14   8.84   8   7.04\n",
              "6    6   7.24   6  6.13   6   6.08   8   5.25\n",
              "7    4   4.26   4  3.10   4   5.39  19  12.50\n",
              "8   12  10.84  12  9.13  12   8.15   8   5.56\n",
              "9    7   4.82   7  7.26   7   6.42   8   7.91\n",
              "10   5   5.68   5  4.74   5   5.73   8   6.89"
            ],
            "text/html": [
              "\n",
              "  <div id=\"df-546261a8-04d8-477c-9344-51f5e2a29216\">\n",
              "    <div class=\"colab-df-container\">\n",
              "      <div>\n",
              "<style scoped>\n",
              "    .dataframe tbody tr th:only-of-type {\n",
              "        vertical-align: middle;\n",
              "    }\n",
              "\n",
              "    .dataframe tbody tr th {\n",
              "        vertical-align: top;\n",
              "    }\n",
              "\n",
              "    .dataframe thead th {\n",
              "        text-align: right;\n",
              "    }\n",
              "</style>\n",
              "<table border=\"1\" class=\"dataframe\">\n",
              "  <thead>\n",
              "    <tr style=\"text-align: right;\">\n",
              "      <th></th>\n",
              "      <th>x1</th>\n",
              "      <th>y1</th>\n",
              "      <th>x2</th>\n",
              "      <th>y2</th>\n",
              "      <th>x3</th>\n",
              "      <th>y3</th>\n",
              "      <th>x4</th>\n",
              "      <th>y4</th>\n",
              "    </tr>\n",
              "  </thead>\n",
              "  <tbody>\n",
              "    <tr>\n",
              "      <th>0</th>\n",
              "      <td>10</td>\n",
              "      <td>8.04</td>\n",
              "      <td>10</td>\n",
              "      <td>9.14</td>\n",
              "      <td>10</td>\n",
              "      <td>7.46</td>\n",
              "      <td>8</td>\n",
              "      <td>6.58</td>\n",
              "    </tr>\n",
              "    <tr>\n",
              "      <th>1</th>\n",
              "      <td>8</td>\n",
              "      <td>6.95</td>\n",
              "      <td>8</td>\n",
              "      <td>8.14</td>\n",
              "      <td>8</td>\n",
              "      <td>6.77</td>\n",
              "      <td>8</td>\n",
              "      <td>5.76</td>\n",
              "    </tr>\n",
              "    <tr>\n",
              "      <th>2</th>\n",
              "      <td>13</td>\n",
              "      <td>7.58</td>\n",
              "      <td>13</td>\n",
              "      <td>8.74</td>\n",
              "      <td>13</td>\n",
              "      <td>12.74</td>\n",
              "      <td>8</td>\n",
              "      <td>7.71</td>\n",
              "    </tr>\n",
              "    <tr>\n",
              "      <th>3</th>\n",
              "      <td>9</td>\n",
              "      <td>8.81</td>\n",
              "      <td>9</td>\n",
              "      <td>8.77</td>\n",
              "      <td>9</td>\n",
              "      <td>7.11</td>\n",
              "      <td>8</td>\n",
              "      <td>8.84</td>\n",
              "    </tr>\n",
              "    <tr>\n",
              "      <th>4</th>\n",
              "      <td>11</td>\n",
              "      <td>8.33</td>\n",
              "      <td>11</td>\n",
              "      <td>9.26</td>\n",
              "      <td>11</td>\n",
              "      <td>7.81</td>\n",
              "      <td>8</td>\n",
              "      <td>8.47</td>\n",
              "    </tr>\n",
              "    <tr>\n",
              "      <th>5</th>\n",
              "      <td>14</td>\n",
              "      <td>9.96</td>\n",
              "      <td>14</td>\n",
              "      <td>8.10</td>\n",
              "      <td>14</td>\n",
              "      <td>8.84</td>\n",
              "      <td>8</td>\n",
              "      <td>7.04</td>\n",
              "    </tr>\n",
              "    <tr>\n",
              "      <th>6</th>\n",
              "      <td>6</td>\n",
              "      <td>7.24</td>\n",
              "      <td>6</td>\n",
              "      <td>6.13</td>\n",
              "      <td>6</td>\n",
              "      <td>6.08</td>\n",
              "      <td>8</td>\n",
              "      <td>5.25</td>\n",
              "    </tr>\n",
              "    <tr>\n",
              "      <th>7</th>\n",
              "      <td>4</td>\n",
              "      <td>4.26</td>\n",
              "      <td>4</td>\n",
              "      <td>3.10</td>\n",
              "      <td>4</td>\n",
              "      <td>5.39</td>\n",
              "      <td>19</td>\n",
              "      <td>12.50</td>\n",
              "    </tr>\n",
              "    <tr>\n",
              "      <th>8</th>\n",
              "      <td>12</td>\n",
              "      <td>10.84</td>\n",
              "      <td>12</td>\n",
              "      <td>9.13</td>\n",
              "      <td>12</td>\n",
              "      <td>8.15</td>\n",
              "      <td>8</td>\n",
              "      <td>5.56</td>\n",
              "    </tr>\n",
              "    <tr>\n",
              "      <th>9</th>\n",
              "      <td>7</td>\n",
              "      <td>4.82</td>\n",
              "      <td>7</td>\n",
              "      <td>7.26</td>\n",
              "      <td>7</td>\n",
              "      <td>6.42</td>\n",
              "      <td>8</td>\n",
              "      <td>7.91</td>\n",
              "    </tr>\n",
              "    <tr>\n",
              "      <th>10</th>\n",
              "      <td>5</td>\n",
              "      <td>5.68</td>\n",
              "      <td>5</td>\n",
              "      <td>4.74</td>\n",
              "      <td>5</td>\n",
              "      <td>5.73</td>\n",
              "      <td>8</td>\n",
              "      <td>6.89</td>\n",
              "    </tr>\n",
              "  </tbody>\n",
              "</table>\n",
              "</div>\n",
              "      <button class=\"colab-df-convert\" onclick=\"convertToInteractive('df-546261a8-04d8-477c-9344-51f5e2a29216')\"\n",
              "              title=\"Convert this dataframe to an interactive table.\"\n",
              "              style=\"display:none;\">\n",
              "        \n",
              "  <svg xmlns=\"http://www.w3.org/2000/svg\" height=\"24px\"viewBox=\"0 0 24 24\"\n",
              "       width=\"24px\">\n",
              "    <path d=\"M0 0h24v24H0V0z\" fill=\"none\"/>\n",
              "    <path d=\"M18.56 5.44l.94 2.06.94-2.06 2.06-.94-2.06-.94-.94-2.06-.94 2.06-2.06.94zm-11 1L8.5 8.5l.94-2.06 2.06-.94-2.06-.94L8.5 2.5l-.94 2.06-2.06.94zm10 10l.94 2.06.94-2.06 2.06-.94-2.06-.94-.94-2.06-.94 2.06-2.06.94z\"/><path d=\"M17.41 7.96l-1.37-1.37c-.4-.4-.92-.59-1.43-.59-.52 0-1.04.2-1.43.59L10.3 9.45l-7.72 7.72c-.78.78-.78 2.05 0 2.83L4 21.41c.39.39.9.59 1.41.59.51 0 1.02-.2 1.41-.59l7.78-7.78 2.81-2.81c.8-.78.8-2.07 0-2.86zM5.41 20L4 18.59l7.72-7.72 1.47 1.35L5.41 20z\"/>\n",
              "  </svg>\n",
              "      </button>\n",
              "      \n",
              "  <style>\n",
              "    .colab-df-container {\n",
              "      display:flex;\n",
              "      flex-wrap:wrap;\n",
              "      gap: 12px;\n",
              "    }\n",
              "\n",
              "    .colab-df-convert {\n",
              "      background-color: #E8F0FE;\n",
              "      border: none;\n",
              "      border-radius: 50%;\n",
              "      cursor: pointer;\n",
              "      display: none;\n",
              "      fill: #1967D2;\n",
              "      height: 32px;\n",
              "      padding: 0 0 0 0;\n",
              "      width: 32px;\n",
              "    }\n",
              "\n",
              "    .colab-df-convert:hover {\n",
              "      background-color: #E2EBFA;\n",
              "      box-shadow: 0px 1px 2px rgba(60, 64, 67, 0.3), 0px 1px 3px 1px rgba(60, 64, 67, 0.15);\n",
              "      fill: #174EA6;\n",
              "    }\n",
              "\n",
              "    [theme=dark] .colab-df-convert {\n",
              "      background-color: #3B4455;\n",
              "      fill: #D2E3FC;\n",
              "    }\n",
              "\n",
              "    [theme=dark] .colab-df-convert:hover {\n",
              "      background-color: #434B5C;\n",
              "      box-shadow: 0px 1px 3px 1px rgba(0, 0, 0, 0.15);\n",
              "      filter: drop-shadow(0px 1px 2px rgba(0, 0, 0, 0.3));\n",
              "      fill: #FFFFFF;\n",
              "    }\n",
              "  </style>\n",
              "\n",
              "      <script>\n",
              "        const buttonEl =\n",
              "          document.querySelector('#df-546261a8-04d8-477c-9344-51f5e2a29216 button.colab-df-convert');\n",
              "        buttonEl.style.display =\n",
              "          google.colab.kernel.accessAllowed ? 'block' : 'none';\n",
              "\n",
              "        async function convertToInteractive(key) {\n",
              "          const element = document.querySelector('#df-546261a8-04d8-477c-9344-51f5e2a29216');\n",
              "          const dataTable =\n",
              "            await google.colab.kernel.invokeFunction('convertToInteractive',\n",
              "                                                     [key], {});\n",
              "          if (!dataTable) return;\n",
              "\n",
              "          const docLinkHtml = 'Like what you see? Visit the ' +\n",
              "            '<a target=\"_blank\" href=https://colab.research.google.com/notebooks/data_table.ipynb>data table notebook</a>'\n",
              "            + ' to learn more about interactive tables.';\n",
              "          element.innerHTML = '';\n",
              "          dataTable['output_type'] = 'display_data';\n",
              "          await google.colab.output.renderOutput(dataTable, element);\n",
              "          const docLink = document.createElement('div');\n",
              "          docLink.innerHTML = docLinkHtml;\n",
              "          element.appendChild(docLink);\n",
              "        }\n",
              "      </script>\n",
              "    </div>\n",
              "  </div>\n",
              "  "
            ]
          },
          "metadata": {},
          "execution_count": 4
        }
      ],
      "source": [
        "#read csv file\n",
        "anscombe = pd.read_csv('anscombe_quartet_data.csv')\n",
        "\n",
        "# check\n",
        "anscombe"
      ]
    },
    {
      "cell_type": "code",
      "execution_count": 5,
      "metadata": {
        "colab": {
          "base_uri": "https://localhost:8080/",
          "height": 300
        },
        "id": "vhkoxSsp8BHb",
        "outputId": "cac810a7-1512-4421-f6f0-46b2d881e431"
      },
      "outputs": [
        {
          "output_type": "execute_result",
          "data": {
            "text/plain": [
              "          x1        y1        x2        y2        x3        y3        x4  \\\n",
              "x1  1.000000  0.816421  1.000000  0.816237  1.000000  0.816287 -0.500000   \n",
              "y1  0.816421  1.000000  0.816421  0.750005  0.816421  0.468717 -0.529093   \n",
              "x2  1.000000  0.816421  1.000000  0.816237  1.000000  0.816287 -0.500000   \n",
              "y2  0.816237  0.750005  0.816237  1.000000  0.816237  0.587919 -0.718437   \n",
              "x3  1.000000  0.816421  1.000000  0.816237  1.000000  0.816287 -0.500000   \n",
              "y3  0.816287  0.468717  0.816287  0.587919  0.816287  1.000000 -0.344661   \n",
              "x4 -0.500000 -0.529093 -0.500000 -0.718437 -0.500000 -0.344661  1.000000   \n",
              "y4 -0.314047 -0.489116 -0.314047 -0.478095 -0.314047 -0.155472  0.816521   \n",
              "\n",
              "          y4  \n",
              "x1 -0.314047  \n",
              "y1 -0.489116  \n",
              "x2 -0.314047  \n",
              "y2 -0.478095  \n",
              "x3 -0.314047  \n",
              "y3 -0.155472  \n",
              "x4  0.816521  \n",
              "y4  1.000000  "
            ],
            "text/html": [
              "\n",
              "  <div id=\"df-737e5978-6caf-4766-ac53-400248d890a9\">\n",
              "    <div class=\"colab-df-container\">\n",
              "      <div>\n",
              "<style scoped>\n",
              "    .dataframe tbody tr th:only-of-type {\n",
              "        vertical-align: middle;\n",
              "    }\n",
              "\n",
              "    .dataframe tbody tr th {\n",
              "        vertical-align: top;\n",
              "    }\n",
              "\n",
              "    .dataframe thead th {\n",
              "        text-align: right;\n",
              "    }\n",
              "</style>\n",
              "<table border=\"1\" class=\"dataframe\">\n",
              "  <thead>\n",
              "    <tr style=\"text-align: right;\">\n",
              "      <th></th>\n",
              "      <th>x1</th>\n",
              "      <th>y1</th>\n",
              "      <th>x2</th>\n",
              "      <th>y2</th>\n",
              "      <th>x3</th>\n",
              "      <th>y3</th>\n",
              "      <th>x4</th>\n",
              "      <th>y4</th>\n",
              "    </tr>\n",
              "  </thead>\n",
              "  <tbody>\n",
              "    <tr>\n",
              "      <th>x1</th>\n",
              "      <td>1.000000</td>\n",
              "      <td>0.816421</td>\n",
              "      <td>1.000000</td>\n",
              "      <td>0.816237</td>\n",
              "      <td>1.000000</td>\n",
              "      <td>0.816287</td>\n",
              "      <td>-0.500000</td>\n",
              "      <td>-0.314047</td>\n",
              "    </tr>\n",
              "    <tr>\n",
              "      <th>y1</th>\n",
              "      <td>0.816421</td>\n",
              "      <td>1.000000</td>\n",
              "      <td>0.816421</td>\n",
              "      <td>0.750005</td>\n",
              "      <td>0.816421</td>\n",
              "      <td>0.468717</td>\n",
              "      <td>-0.529093</td>\n",
              "      <td>-0.489116</td>\n",
              "    </tr>\n",
              "    <tr>\n",
              "      <th>x2</th>\n",
              "      <td>1.000000</td>\n",
              "      <td>0.816421</td>\n",
              "      <td>1.000000</td>\n",
              "      <td>0.816237</td>\n",
              "      <td>1.000000</td>\n",
              "      <td>0.816287</td>\n",
              "      <td>-0.500000</td>\n",
              "      <td>-0.314047</td>\n",
              "    </tr>\n",
              "    <tr>\n",
              "      <th>y2</th>\n",
              "      <td>0.816237</td>\n",
              "      <td>0.750005</td>\n",
              "      <td>0.816237</td>\n",
              "      <td>1.000000</td>\n",
              "      <td>0.816237</td>\n",
              "      <td>0.587919</td>\n",
              "      <td>-0.718437</td>\n",
              "      <td>-0.478095</td>\n",
              "    </tr>\n",
              "    <tr>\n",
              "      <th>x3</th>\n",
              "      <td>1.000000</td>\n",
              "      <td>0.816421</td>\n",
              "      <td>1.000000</td>\n",
              "      <td>0.816237</td>\n",
              "      <td>1.000000</td>\n",
              "      <td>0.816287</td>\n",
              "      <td>-0.500000</td>\n",
              "      <td>-0.314047</td>\n",
              "    </tr>\n",
              "    <tr>\n",
              "      <th>y3</th>\n",
              "      <td>0.816287</td>\n",
              "      <td>0.468717</td>\n",
              "      <td>0.816287</td>\n",
              "      <td>0.587919</td>\n",
              "      <td>0.816287</td>\n",
              "      <td>1.000000</td>\n",
              "      <td>-0.344661</td>\n",
              "      <td>-0.155472</td>\n",
              "    </tr>\n",
              "    <tr>\n",
              "      <th>x4</th>\n",
              "      <td>-0.500000</td>\n",
              "      <td>-0.529093</td>\n",
              "      <td>-0.500000</td>\n",
              "      <td>-0.718437</td>\n",
              "      <td>-0.500000</td>\n",
              "      <td>-0.344661</td>\n",
              "      <td>1.000000</td>\n",
              "      <td>0.816521</td>\n",
              "    </tr>\n",
              "    <tr>\n",
              "      <th>y4</th>\n",
              "      <td>-0.314047</td>\n",
              "      <td>-0.489116</td>\n",
              "      <td>-0.314047</td>\n",
              "      <td>-0.478095</td>\n",
              "      <td>-0.314047</td>\n",
              "      <td>-0.155472</td>\n",
              "      <td>0.816521</td>\n",
              "      <td>1.000000</td>\n",
              "    </tr>\n",
              "  </tbody>\n",
              "</table>\n",
              "</div>\n",
              "      <button class=\"colab-df-convert\" onclick=\"convertToInteractive('df-737e5978-6caf-4766-ac53-400248d890a9')\"\n",
              "              title=\"Convert this dataframe to an interactive table.\"\n",
              "              style=\"display:none;\">\n",
              "        \n",
              "  <svg xmlns=\"http://www.w3.org/2000/svg\" height=\"24px\"viewBox=\"0 0 24 24\"\n",
              "       width=\"24px\">\n",
              "    <path d=\"M0 0h24v24H0V0z\" fill=\"none\"/>\n",
              "    <path d=\"M18.56 5.44l.94 2.06.94-2.06 2.06-.94-2.06-.94-.94-2.06-.94 2.06-2.06.94zm-11 1L8.5 8.5l.94-2.06 2.06-.94-2.06-.94L8.5 2.5l-.94 2.06-2.06.94zm10 10l.94 2.06.94-2.06 2.06-.94-2.06-.94-.94-2.06-.94 2.06-2.06.94z\"/><path d=\"M17.41 7.96l-1.37-1.37c-.4-.4-.92-.59-1.43-.59-.52 0-1.04.2-1.43.59L10.3 9.45l-7.72 7.72c-.78.78-.78 2.05 0 2.83L4 21.41c.39.39.9.59 1.41.59.51 0 1.02-.2 1.41-.59l7.78-7.78 2.81-2.81c.8-.78.8-2.07 0-2.86zM5.41 20L4 18.59l7.72-7.72 1.47 1.35L5.41 20z\"/>\n",
              "  </svg>\n",
              "      </button>\n",
              "      \n",
              "  <style>\n",
              "    .colab-df-container {\n",
              "      display:flex;\n",
              "      flex-wrap:wrap;\n",
              "      gap: 12px;\n",
              "    }\n",
              "\n",
              "    .colab-df-convert {\n",
              "      background-color: #E8F0FE;\n",
              "      border: none;\n",
              "      border-radius: 50%;\n",
              "      cursor: pointer;\n",
              "      display: none;\n",
              "      fill: #1967D2;\n",
              "      height: 32px;\n",
              "      padding: 0 0 0 0;\n",
              "      width: 32px;\n",
              "    }\n",
              "\n",
              "    .colab-df-convert:hover {\n",
              "      background-color: #E2EBFA;\n",
              "      box-shadow: 0px 1px 2px rgba(60, 64, 67, 0.3), 0px 1px 3px 1px rgba(60, 64, 67, 0.15);\n",
              "      fill: #174EA6;\n",
              "    }\n",
              "\n",
              "    [theme=dark] .colab-df-convert {\n",
              "      background-color: #3B4455;\n",
              "      fill: #D2E3FC;\n",
              "    }\n",
              "\n",
              "    [theme=dark] .colab-df-convert:hover {\n",
              "      background-color: #434B5C;\n",
              "      box-shadow: 0px 1px 3px 1px rgba(0, 0, 0, 0.15);\n",
              "      filter: drop-shadow(0px 1px 2px rgba(0, 0, 0, 0.3));\n",
              "      fill: #FFFFFF;\n",
              "    }\n",
              "  </style>\n",
              "\n",
              "      <script>\n",
              "        const buttonEl =\n",
              "          document.querySelector('#df-737e5978-6caf-4766-ac53-400248d890a9 button.colab-df-convert');\n",
              "        buttonEl.style.display =\n",
              "          google.colab.kernel.accessAllowed ? 'block' : 'none';\n",
              "\n",
              "        async function convertToInteractive(key) {\n",
              "          const element = document.querySelector('#df-737e5978-6caf-4766-ac53-400248d890a9');\n",
              "          const dataTable =\n",
              "            await google.colab.kernel.invokeFunction('convertToInteractive',\n",
              "                                                     [key], {});\n",
              "          if (!dataTable) return;\n",
              "\n",
              "          const docLinkHtml = 'Like what you see? Visit the ' +\n",
              "            '<a target=\"_blank\" href=https://colab.research.google.com/notebooks/data_table.ipynb>data table notebook</a>'\n",
              "            + ' to learn more about interactive tables.';\n",
              "          element.innerHTML = '';\n",
              "          dataTable['output_type'] = 'display_data';\n",
              "          await google.colab.output.renderOutput(dataTable, element);\n",
              "          const docLink = document.createElement('div');\n",
              "          docLink.innerHTML = docLinkHtml;\n",
              "          element.appendChild(docLink);\n",
              "        }\n",
              "      </script>\n",
              "    </div>\n",
              "  </div>\n",
              "  "
            ]
          },
          "metadata": {},
          "execution_count": 5
        }
      ],
      "source": [
        "# describe\n",
        "anscombe.corr()"
      ]
    },
    {
      "cell_type": "markdown",
      "metadata": {
        "id": "RSq4eUF7j8wL"
      },
      "source": [
        "Using the Anscombe’s dataset, we reviewed earlier in class, create a subplot that shows how each x column correlates with each y column.\n",
        "\n",
        "Each of your plots should be a scatter diagram together with a line chart that goes through the diagonal of the chart as seen in the original Anscombe’s quartet plot \n",
        "\n",
        "You’re to implement your solution using the different methods highlighted for creating subplots in class. That means you’re to have 4 subplots for each method.\n",
        "\n",
        "Each of your plots should have a title such as (x1,y1), (x2,y2), etc\n",
        "Link to Anscombe quartet dataset can be found Here"
      ]
    },
    {
      "cell_type": "markdown",
      "metadata": {
        "id": "urJlbFdwe5Ag"
      },
      "source": [
        "First Approach"
      ]
    },
    {
      "cell_type": "code",
      "execution_count": 6,
      "metadata": {
        "colab": {
          "base_uri": "https://localhost:8080/",
          "height": 510
        },
        "id": "OnncMJx6l3N_",
        "outputId": "1d55ede1-04df-49a9-e477-11fa3af336ba"
      },
      "outputs": [
        {
          "output_type": "display_data",
          "data": {
            "text/plain": [
              "<Figure size 576x432 with 4 Axes>"
            ],
            "image/png": "[encoded data removed]"
          },
          "metadata": {
            "needs_background": "light"
          }
        }
      ],
      "source": [
        "plt.figure(figsize=(8,6))\n",
        "plt.subplot(2,2,1)\n",
        "plt.title(\"subplot x1y1\")\n",
        "plt.plot([4,14], [4,12])\n",
        "plt.scatter(anscombe[\"x1\"], anscombe[\"y1\"], color=\"red\" )\n",
        "plt.xlabel(\"x1\")\n",
        "plt.ylabel(\"y1\")\n",
        "\n",
        "\n",
        "plt.subplot(2,2,2)\n",
        "plt.title(\"subplot x2y2\")\n",
        "plt.plot([4,14], [4,12])\n",
        "plt.scatter(anscombe[\"x2\"], anscombe[\"y2\"], color=\"orange\")\n",
        "plt.xlabel(\"x2\")\n",
        "plt.ylabel(\"y2\")\n",
        "\n",
        "\n",
        "plt.subplot(2,2,3)\n",
        "plt.title(\"subplot x3y3\")\n",
        "plt.plot([4,14], [4,13])\n",
        "plt.scatter(anscombe[\"x3\"], anscombe[\"y3\"], color=\"pink\")\n",
        "plt.xlabel(\"x3\")\n",
        "plt.ylabel(\"y3\")\n",
        "\n",
        "\n",
        "plt.subplot(2,2,4)\n",
        "plt.title(\"subplot x4y4\")\n",
        "plt.plot([4,20], [4,12])\n",
        "plt.scatter(anscombe[\"x4\"], anscombe[\"y4\"], color=\"yellow\")\n",
        "plt.xlabel(\"x4\")\n",
        "plt.ylabel(\"y4\")\n",
        "\n",
        "\n",
        "plt.suptitle(\"PLOT 1\")\n",
        "plt.subplots_adjust(wspace=0.3, hspace=0.3, bottom=1, top=2)"
      ]
    },
    {
      "cell_type": "markdown",
      "metadata": {
        "id": "zoqC-ZrvYhyJ"
      },
      "source": [
        "# **Second Approach**\n"
      ]
    },
    {
      "cell_type": "code",
      "execution_count": 11,
      "metadata": {
        "colab": {
          "base_uri": "https://localhost:8080/",
          "height": 501
        },
        "id": "K5QPQ8wchga9",
        "outputId": "1041bd60-3bd1-4874-decb-032b071f71fb"
      },
      "outputs": [
        {
          "output_type": "display_data",
          "data": {
            "text/plain": [
              "<Figure size 576x432 with 4 Axes>"
            ],
            "image/png": "[encoded data removed]"
          },
          "metadata": {
            "needs_background": "light"
          }
        }
      ],
      "source": [
        "fig, ((ax1, ax2), (ax3, ax4)) = plt.subplots(nrows=2, ncols=2, figsize=(8,6))\n",
        "\n",
        "ax1.plot([4, 14], [4, 13])\n",
        "ax1.scatter(anscombe[\"x1\"], anscombe[\"y1\"], c=\"red\")\n",
        "ax1.set_title(\"x1y1\")\n",
        "\n",
        "ax2.plot([4, 14], [4, 13])\n",
        "ax2.scatter(anscombe[\"x2\"], anscombe[\"y2\"], c=\"black\")\n",
        "ax2.set_title(\"x2y2\")\n",
        "\n",
        "ax3.plot([4, 14], [4, 13])\n",
        "ax3.scatter(anscombe[\"x3\"], anscombe[\"y3\"], c=\"blue\")\n",
        "ax3.set_title(\"x3y3\")\n",
        "\n",
        "ax4.plot([4, 20], [4, 12])\n",
        "ax4.scatter(anscombe[\"x4\"], anscombe[\"y4\"], c=\"green\")\n",
        "ax4.set_title(\"x4y4\")\n",
        "\n",
        "plt.suptitle(\"Plot 2\")\n",
        "plt.subplots_adjust(wspace=0.3, hspace=0.3, bottom=1, top=2)"
      ]
    },
    {
      "cell_type": "markdown",
      "source": [
        "# **Third Subplot**"
      ],
      "metadata": {
        "id": "NPzfUl1wgThV"
      }
    },
    {
      "cell_type": "code",
      "source": [
        "fig = plt.figure(figsize=(8, 6))\n",
        "\n",
        "ax5 = fig.add_subplot(221, title=(\"x1y1\"))\n",
        "ax5.plot([4, 14], [4, 13])\n",
        "ax5.scatter(anscombe[\"x1\"], anscombe[\"y1\"], c=\"red\")\n",
        "\n",
        "ax6 = fig.add_subplot(222, title=(\"x2y2\"))\n",
        "ax6.plot([4, 14], [4, 13])\n",
        "ax6.scatter(anscombe[\"x2\"], anscombe[\"y2\"], c=\"black\")\n",
        "\n",
        "ax7 = fig.add_subplot(223, title=(\"x3y3\"))\n",
        "ax7.plot([4, 14], [4, 13])\n",
        "ax7.scatter(anscombe[\"x3\"], anscombe[\"y3\"], c=\"blue\")\n",
        "\n",
        "ax8 = fig.add_subplot(224, title=(\"x4y4\"))\n",
        "ax8.plot([4, 20], [4, 12])\n",
        "ax8.scatter(anscombe[\"x4\"], anscombe[\"y4\"], c=\"green\")\n",
        "\n",
        "plt.suptitle(\"Plot 3\")\n",
        "plt.subplots_adjust(wspace=0.3, hspace=0.3, bottom=1, top=2)"
      ],
      "metadata": {
        "colab": {
          "base_uri": "https://localhost:8080/",
          "height": 501
        },
        "id": "pnOyR9n1gQi6",
        "outputId": "9d667fb6-d3e7-41c6-90e5-90e9d1a02ffb"
      },
      "execution_count": 14,
      "outputs": [
        {
          "output_type": "display_data",
          "data": {
            "text/plain": [
              "<Figure size 576x432 with 4 Axes>"
            ],
            "image/png": "[encoded data removed]"
          },
          "metadata": {
            "needs_background": "light"
          }
        }
      ]
    }
  ],
  "metadata": {
    "colab": {
      "provenance": [],
      "authorship_tag": "ABX9TyMwOftcak0IUlZ2XdGLbQep",
      "include_colab_link": true
    },
    "kernelspec": {
      "display_name": "Python 3",
      "name": "python3"
    },
    "language_info": {
      "name": "python"
    }
  },
  "nbformat": 4,
  "nbformat_minor": 0
}