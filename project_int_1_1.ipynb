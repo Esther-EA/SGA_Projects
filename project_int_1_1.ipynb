{
  "nbformat": 4,
  "nbformat_minor": 0,
  "metadata": {
    "colab": {
      "provenance": [],
      "mount_file_id": "13YyoSC_iPrYIatg7sbdeiyqayRwfCW_D",
      "authorship_tag": "ABX9TyNz/Y3tFIJJV1c5sMJ/Ojb9",
      "include_colab_link": true
    },
    "kernelspec": {
      "name": "python3",
      "display_name": "Python 3"
    },
    "language_info": {
      "name": "python"
    }
  },
  "cells": [
    {
      "cell_type": "markdown",
      "metadata": {
        "id": "view-in-github",
        "colab_type": "text"
      },
      "source": [
        "<a href=\"https://colab.research.google.com/github/Esther-EA/SGA_Assignments/blob/master/project_int_1_1.ipynb\" target=\"_parent\"><img src=\"https://colab.research.google.com/assets/colab-badge.svg\" alt=\"Open In Colab\"/></a>"
      ]
    },
    {
      "cell_type": "code",
      "execution_count": 1,
      "metadata": {
        "id": "jKkJRmoszpJ2"
      },
      "outputs": [],
      "source": [
        "from google.colab import drive"
      ]
    },
    {
      "cell_type": "code",
      "source": [
        "%cd /content/drive/MyDrive/intermediate_1.3"
      ],
      "metadata": {
        "colab": {
          "base_uri": "https://localhost:8080/"
        },
        "id": "X39jsAma0cY4",
        "outputId": "e6fd33bd-95c0-4c99-bbdd-03aec6d3382d"
      },
      "execution_count": 3,
      "outputs": [
        {
          "output_type": "stream",
          "name": "stdout",
          "text": [
            "/content/drive/MyDrive/intermediate_1.3\n"
          ]
        }
      ]
    },
    {
      "cell_type": "code",
      "source": [
        "import pandas as pd\n",
        "import matplotlib \n",
        "from matplotlib import pyplot as plt\n",
        "import numpy as np\n",
        "import seaborn as sns"
      ],
      "metadata": {
        "id": "2i1YEW6n0pDe"
      },
      "execution_count": 4,
      "outputs": []
    },
    {
      "cell_type": "markdown",
      "source": [
        "**Use else block to display a message done after successful execution of for loop in python**"
      ],
      "metadata": {
        "id": "Zyi1vGHD1i_J"
      }
    },
    {
      "cell_type": "code",
      "source": [
        "for a in range(10):\n",
        "    print(a)\n",
        "else:\n",
        "    print(\"Done!\")"
      ],
      "metadata": {
        "colab": {
          "base_uri": "https://localhost:8080/"
        },
        "id": "ciLZ5KeG0tBX",
        "outputId": "31b7f31c-7b98-4f73-a320-6fec6335adbb"
      },
      "execution_count": 6,
      "outputs": [
        {
          "output_type": "stream",
          "name": "stdout",
          "text": [
            "0\n",
            "1\n",
            "2\n",
            "3\n",
            "4\n",
            "5\n",
            "6\n",
            "7\n",
            "8\n",
            "9\n",
            "Done!\n"
          ]
        }
      ]
    },
    {
      "cell_type": "markdown",
      "source": [
        "**Write a program to display all prime numbers within a range**"
      ],
      "metadata": {
        "id": "i8isCm6L17qb"
      }
    },
    {
      "cell_type": "code",
      "source": [
        "for b in range(0, 16):\n",
        "    if b > 1: \n",
        "        for z in range(2, b):\n",
        "            if b % z == 0:\n",
        "              break\n",
        "        else:\n",
        "            print(b)\n",
        "            "
      ],
      "metadata": {
        "colab": {
          "base_uri": "https://localhost:8080/"
        },
        "id": "TkY8lTuB1m_0",
        "outputId": "bc21f9e9-0533-4cc1-d135-d6016c81fd83"
      },
      "execution_count": 9,
      "outputs": [
        {
          "output_type": "stream",
          "name": "stdout",
          "text": [
            "2\n",
            "3\n",
            "5\n",
            "7\n",
            "11\n",
            "13\n"
          ]
        }
      ]
    },
    {
      "cell_type": "markdown",
      "source": [
        "**Use a loop to display elements from a given list present at odd index positions**"
      ],
      "metadata": {
        "id": "qFr9UIqj37rW"
      }
    },
    {
      "cell_type": "code",
      "source": [
        "c = [10,11,14,16,13,19]\n",
        "for y, x in enumerate(c): \n",
        "    if y % 2 != 0:\n",
        "        print(y, x)  "
      ],
      "metadata": {
        "colab": {
          "base_uri": "https://localhost:8080/"
        },
        "id": "BqJMhdb536-H",
        "outputId": "b3171708-6c90-480f-dc7f-49eb118a8cc4"
      },
      "execution_count": 10,
      "outputs": [
        {
          "output_type": "stream",
          "name": "stdout",
          "text": [
            "1 11\n",
            "3 16\n",
            "5 19\n"
          ]
        }
      ]
    },
    {
      "cell_type": "markdown",
      "source": [
        "**Calculate the cube of all numbers from 1 to a given number**"
      ],
      "metadata": {
        "id": "WAlZ2jtT5xps"
      }
    },
    {
      "cell_type": "code",
      "source": [
        "for d in range(1, 15):\n",
        "    print(d ** 3)"
      ],
      "metadata": {
        "colab": {
          "base_uri": "https://localhost:8080/"
        },
        "id": "y_2u8V7C5xyS",
        "outputId": "ffe22063-afe7-4959-a44f-4e89359d035a"
      },
      "execution_count": 11,
      "outputs": [
        {
          "output_type": "stream",
          "name": "stdout",
          "text": [
            "1\n",
            "8\n",
            "27\n",
            "64\n",
            "125\n",
            "216\n",
            "343\n",
            "512\n",
            "729\n",
            "1000\n",
            "1331\n",
            "1728\n",
            "2197\n",
            "2744\n"
          ]
        }
      ]
    }
  ]
}