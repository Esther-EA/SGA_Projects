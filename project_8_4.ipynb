{
  "nbformat": 4,
  "nbformat_minor": 0,
  "metadata": {
    "colab": {
      "provenance": [],
      "mount_file_id": "1AHpTQGa2DAq0RDuFK1Q1YF5NqlNkqyWQ",
      "authorship_tag": "ABX9TyPiDJu2lKAfazNUxacDZldb",
      "include_colab_link": true
    },
    "kernelspec": {
      "name": "python3",
      "display_name": "Python 3"
    },
    "language_info": {
      "name": "python"
    }
  },
  "cells": [
    {
      "cell_type": "markdown",
      "metadata": {
        "id": "view-in-github",
        "colab_type": "text"
      },
      "source": [
        "<a href=\"https://colab.research.google.com/github/Esther-EA/SGA_Assignments/blob/master/project_8_4.ipynb\" target=\"_parent\"><img src=\"https://colab.research.google.com/assets/colab-badge.svg\" alt=\"Open In Colab\"/></a>"
      ]
    },
    {
      "cell_type": "code",
      "execution_count": 1,
      "metadata": {
        "id": "JtVwjA2_Q-Uh"
      },
      "outputs": [],
      "source": [
        "from google.colab import drive"
      ]
    },
    {
      "cell_type": "code",
      "source": [
        "%cd /content/drive/MyDrive/Pandas_INTRO"
      ],
      "metadata": {
        "id": "awlP5RClRDgj",
        "colab": {
          "base_uri": "https://localhost:8080/"
        },
        "outputId": "2031feb3-71d0-4432-a245-df31f5327265"
      },
      "execution_count": 2,
      "outputs": [
        {
          "output_type": "stream",
          "name": "stdout",
          "text": [
            "/content/drive/MyDrive/Pandas_INTRO\n"
          ]
        }
      ]
    },
    {
      "cell_type": "code",
      "source": [
        "import pandas as pd\n",
        "import matplotlib \n",
        "from matplotlib import pyplot as plt\n",
        "import numpy as np\n",
        "import seaborn as sns"
      ],
      "metadata": {
        "id": "e364QBY6Rhmt"
      },
      "execution_count": 3,
      "outputs": []
    },
    {
      "cell_type": "markdown",
      "source": [
        "**Check and drop the missing values**"
      ],
      "metadata": {
        "id": "ctXYpf68biJ3"
      }
    },
    {
      "cell_type": "code",
      "source": [
        "df = pd.read_csv(\"/content/drive/MyDrive/Pandas_INTRO/WorldCupMatches.csv\")\n",
        "df.head(15)\n",
        "df_data = df.dropna()\n",
        "df_data.tail()"
      ],
      "metadata": {
        "colab": {
          "base_uri": "https://localhost:8080/",
          "height": 531
        },
        "id": "SqOmEJHXRsGh",
        "outputId": "36ab8128-dfe1-477f-bf76-69c962d4841b"
      },
      "execution_count": 4,
      "outputs": [
        {
          "output_type": "execute_result",
          "data": {
            "text/plain": [
              "       Year              Datetime                     Stage  \\\n",
              "847  2014.0  05 Jul 2014 - 17:00             Quarter-finals   \n",
              "848  2014.0  08 Jul 2014 - 17:00                Semi-finals   \n",
              "849  2014.0  09 Jul 2014 - 17:00                Semi-finals   \n",
              "850  2014.0  12 Jul 2014 - 17:00   Play-off for third place   \n",
              "851  2014.0  13 Jul 2014 - 16:00                      Final   \n",
              "\n",
              "                 Stadium             City Home Team Name  Home Team Goals  \\\n",
              "847     Arena Fonte Nova        Salvador     Netherlands              0.0   \n",
              "848     Estadio Mineirao  Belo Horizonte          Brazil              1.0   \n",
              "849   Arena de Sao Paulo       Sao Paulo     Netherlands              0.0   \n",
              "850     Estadio Nacional        Brasilia          Brazil              0.0   \n",
              "851  Estadio do Maracana  Rio De Janeiro         Germany              1.0   \n",
              "\n",
              "     Away Team Goals Away Team Name                         Win conditions  \\\n",
              "847              0.0     Costa Rica  Netherlands win on penalties (4 - 3)    \n",
              "848              7.0        Germany                                          \n",
              "849              0.0      Argentina    Argentina win on penalties (2 - 4)    \n",
              "850              3.0    Netherlands                                          \n",
              "851              0.0      Argentina          Germany win after extra time    \n",
              "\n",
              "     Attendance  Half-time Home Goals  Half-time Away Goals  \\\n",
              "847     51179.0                   0.0                   0.0   \n",
              "848     58141.0                   0.0                   5.0   \n",
              "849     63267.0                   0.0                   0.0   \n",
              "850     68034.0                   0.0                   2.0   \n",
              "851     74738.0                   0.0                   0.0   \n",
              "\n",
              "                   Referee                  Assistant 1  \\\n",
              "847  Ravshan IRMATOV (UZB)  RASULOV Abduxamidullo (UZB)   \n",
              "848  RODRIGUEZ Marco (MEX)      TORRENTERA Marvin (MEX)   \n",
              "849     C�neyt �AKIR (TUR)         DURAN Bahattin (TUR)   \n",
              "850  HAIMOUDI Djamel (ALG)         ACHIK Redouane (MAR)   \n",
              "851   Nicola RIZZOLI (ITA)        Renato FAVERANI (ITA)   \n",
              "\n",
              "                  Assistant 2   RoundID      MatchID Home Team Initials  \\\n",
              "847  KOCHKAROV Bakhadyr (KGZ)  255953.0  300186488.0                NED   \n",
              "848     QUINTERO Marcos (MEX)  255955.0  300186474.0                BRA   \n",
              "849         ONGUN Tarik (TUR)  255955.0  300186490.0                NED   \n",
              "850   ETCHIALI Abdelhak (ALG)  255957.0  300186502.0                BRA   \n",
              "851      Andrea STEFANI (ITA)  255959.0  300186501.0                GER   \n",
              "\n",
              "    Away Team Initials  \n",
              "847                CRC  \n",
              "848                GER  \n",
              "849                ARG  \n",
              "850                NED  \n",
              "851                ARG  "
            ],
            "text/html": [
              "\n",
              "  <div id=\"df-7ad4a525-b8ea-460c-b0e5-d3a27e690b0a\">\n",
              "    <div class=\"colab-df-container\">\n",
              "      <div>\n",
              "<style scoped>\n",
              "    .dataframe tbody tr th:only-of-type {\n",
              "        vertical-align: middle;\n",
              "    }\n",
              "\n",
              "    .dataframe tbody tr th {\n",
              "        vertical-align: top;\n",
              "    }\n",
              "\n",
              "    .dataframe thead th {\n",
              "        text-align: right;\n",
              "    }\n",
              "</style>\n",
              "<table border=\"1\" class=\"dataframe\">\n",
              "  <thead>\n",
              "    <tr style=\"text-align: right;\">\n",
              "      <th></th>\n",
              "      <th>Year</th>\n",
              "      <th>Datetime</th>\n",
              "      <th>Stage</th>\n",
              "      <th>Stadium</th>\n",
              "      <th>City</th>\n",
              "      <th>Home Team Name</th>\n",
              "      <th>Home Team Goals</th>\n",
              "      <th>Away Team Goals</th>\n",
              "      <th>Away Team Name</th>\n",
              "      <th>Win conditions</th>\n",
              "      <th>Attendance</th>\n",
              "      <th>Half-time Home Goals</th>\n",
              "      <th>Half-time Away Goals</th>\n",
              "      <th>Referee</th>\n",
              "      <th>Assistant 1</th>\n",
              "      <th>Assistant 2</th>\n",
              "      <th>RoundID</th>\n",
              "      <th>MatchID</th>\n",
              "      <th>Home Team Initials</th>\n",
              "      <th>Away Team Initials</th>\n",
              "    </tr>\n",
              "  </thead>\n",
              "  <tbody>\n",
              "    <tr>\n",
              "      <th>847</th>\n",
              "      <td>2014.0</td>\n",
              "      <td>05 Jul 2014 - 17:00</td>\n",
              "      <td>Quarter-finals</td>\n",
              "      <td>Arena Fonte Nova</td>\n",
              "      <td>Salvador</td>\n",
              "      <td>Netherlands</td>\n",
              "      <td>0.0</td>\n",
              "      <td>0.0</td>\n",
              "      <td>Costa Rica</td>\n",
              "      <td>Netherlands win on penalties (4 - 3)</td>\n",
              "      <td>51179.0</td>\n",
              "      <td>0.0</td>\n",
              "      <td>0.0</td>\n",
              "      <td>Ravshan IRMATOV (UZB)</td>\n",
              "      <td>RASULOV Abduxamidullo (UZB)</td>\n",
              "      <td>KOCHKAROV Bakhadyr (KGZ)</td>\n",
              "      <td>255953.0</td>\n",
              "      <td>300186488.0</td>\n",
              "      <td>NED</td>\n",
              "      <td>CRC</td>\n",
              "    </tr>\n",
              "    <tr>\n",
              "      <th>848</th>\n",
              "      <td>2014.0</td>\n",
              "      <td>08 Jul 2014 - 17:00</td>\n",
              "      <td>Semi-finals</td>\n",
              "      <td>Estadio Mineirao</td>\n",
              "      <td>Belo Horizonte</td>\n",
              "      <td>Brazil</td>\n",
              "      <td>1.0</td>\n",
              "      <td>7.0</td>\n",
              "      <td>Germany</td>\n",
              "      <td></td>\n",
              "      <td>58141.0</td>\n",
              "      <td>0.0</td>\n",
              "      <td>5.0</td>\n",
              "      <td>RODRIGUEZ Marco (MEX)</td>\n",
              "      <td>TORRENTERA Marvin (MEX)</td>\n",
              "      <td>QUINTERO Marcos (MEX)</td>\n",
              "      <td>255955.0</td>\n",
              "      <td>300186474.0</td>\n",
              "      <td>BRA</td>\n",
              "      <td>GER</td>\n",
              "    </tr>\n",
              "    <tr>\n",
              "      <th>849</th>\n",
              "      <td>2014.0</td>\n",
              "      <td>09 Jul 2014 - 17:00</td>\n",
              "      <td>Semi-finals</td>\n",
              "      <td>Arena de Sao Paulo</td>\n",
              "      <td>Sao Paulo</td>\n",
              "      <td>Netherlands</td>\n",
              "      <td>0.0</td>\n",
              "      <td>0.0</td>\n",
              "      <td>Argentina</td>\n",
              "      <td>Argentina win on penalties (2 - 4)</td>\n",
              "      <td>63267.0</td>\n",
              "      <td>0.0</td>\n",
              "      <td>0.0</td>\n",
              "      <td>C�neyt �AKIR (TUR)</td>\n",
              "      <td>DURAN Bahattin (TUR)</td>\n",
              "      <td>ONGUN Tarik (TUR)</td>\n",
              "      <td>255955.0</td>\n",
              "      <td>300186490.0</td>\n",
              "      <td>NED</td>\n",
              "      <td>ARG</td>\n",
              "    </tr>\n",
              "    <tr>\n",
              "      <th>850</th>\n",
              "      <td>2014.0</td>\n",
              "      <td>12 Jul 2014 - 17:00</td>\n",
              "      <td>Play-off for third place</td>\n",
              "      <td>Estadio Nacional</td>\n",
              "      <td>Brasilia</td>\n",
              "      <td>Brazil</td>\n",
              "      <td>0.0</td>\n",
              "      <td>3.0</td>\n",
              "      <td>Netherlands</td>\n",
              "      <td></td>\n",
              "      <td>68034.0</td>\n",
              "      <td>0.0</td>\n",
              "      <td>2.0</td>\n",
              "      <td>HAIMOUDI Djamel (ALG)</td>\n",
              "      <td>ACHIK Redouane (MAR)</td>\n",
              "      <td>ETCHIALI Abdelhak (ALG)</td>\n",
              "      <td>255957.0</td>\n",
              "      <td>300186502.0</td>\n",
              "      <td>BRA</td>\n",
              "      <td>NED</td>\n",
              "    </tr>\n",
              "    <tr>\n",
              "      <th>851</th>\n",
              "      <td>2014.0</td>\n",
              "      <td>13 Jul 2014 - 16:00</td>\n",
              "      <td>Final</td>\n",
              "      <td>Estadio do Maracana</td>\n",
              "      <td>Rio De Janeiro</td>\n",
              "      <td>Germany</td>\n",
              "      <td>1.0</td>\n",
              "      <td>0.0</td>\n",
              "      <td>Argentina</td>\n",
              "      <td>Germany win after extra time</td>\n",
              "      <td>74738.0</td>\n",
              "      <td>0.0</td>\n",
              "      <td>0.0</td>\n",
              "      <td>Nicola RIZZOLI (ITA)</td>\n",
              "      <td>Renato FAVERANI (ITA)</td>\n",
              "      <td>Andrea STEFANI (ITA)</td>\n",
              "      <td>255959.0</td>\n",
              "      <td>300186501.0</td>\n",
              "      <td>GER</td>\n",
              "      <td>ARG</td>\n",
              "    </tr>\n",
              "  </tbody>\n",
              "</table>\n",
              "</div>\n",
              "      <button class=\"colab-df-convert\" onclick=\"convertToInteractive('df-7ad4a525-b8ea-460c-b0e5-d3a27e690b0a')\"\n",
              "              title=\"Convert this dataframe to an interactive table.\"\n",
              "              style=\"display:none;\">\n",
              "        \n",
              "  <svg xmlns=\"http://www.w3.org/2000/svg\" height=\"24px\"viewBox=\"0 0 24 24\"\n",
              "       width=\"24px\">\n",
              "    <path d=\"M0 0h24v24H0V0z\" fill=\"none\"/>\n",
              "    <path d=\"M18.56 5.44l.94 2.06.94-2.06 2.06-.94-2.06-.94-.94-2.06-.94 2.06-2.06.94zm-11 1L8.5 8.5l.94-2.06 2.06-.94-2.06-.94L8.5 2.5l-.94 2.06-2.06.94zm10 10l.94 2.06.94-2.06 2.06-.94-2.06-.94-.94-2.06-.94 2.06-2.06.94z\"/><path d=\"M17.41 7.96l-1.37-1.37c-.4-.4-.92-.59-1.43-.59-.52 0-1.04.2-1.43.59L10.3 9.45l-7.72 7.72c-.78.78-.78 2.05 0 2.83L4 21.41c.39.39.9.59 1.41.59.51 0 1.02-.2 1.41-.59l7.78-7.78 2.81-2.81c.8-.78.8-2.07 0-2.86zM5.41 20L4 18.59l7.72-7.72 1.47 1.35L5.41 20z\"/>\n",
              "  </svg>\n",
              "      </button>\n",
              "      \n",
              "  <style>\n",
              "    .colab-df-container {\n",
              "      display:flex;\n",
              "      flex-wrap:wrap;\n",
              "      gap: 12px;\n",
              "    }\n",
              "\n",
              "    .colab-df-convert {\n",
              "      background-color: #E8F0FE;\n",
              "      border: none;\n",
              "      border-radius: 50%;\n",
              "      cursor: pointer;\n",
              "      display: none;\n",
              "      fill: #1967D2;\n",
              "      height: 32px;\n",
              "      padding: 0 0 0 0;\n",
              "      width: 32px;\n",
              "    }\n",
              "\n",
              "    .colab-df-convert:hover {\n",
              "      background-color: #E2EBFA;\n",
              "      box-shadow: 0px 1px 2px rgba(60, 64, 67, 0.3), 0px 1px 3px 1px rgba(60, 64, 67, 0.15);\n",
              "      fill: #174EA6;\n",
              "    }\n",
              "\n",
              "    [theme=dark] .colab-df-convert {\n",
              "      background-color: #3B4455;\n",
              "      fill: #D2E3FC;\n",
              "    }\n",
              "\n",
              "    [theme=dark] .colab-df-convert:hover {\n",
              "      background-color: #434B5C;\n",
              "      box-shadow: 0px 1px 3px 1px rgba(0, 0, 0, 0.15);\n",
              "      filter: drop-shadow(0px 1px 2px rgba(0, 0, 0, 0.3));\n",
              "      fill: #FFFFFF;\n",
              "    }\n",
              "  </style>\n",
              "\n",
              "      <script>\n",
              "        const buttonEl =\n",
              "          document.querySelector('#df-7ad4a525-b8ea-460c-b0e5-d3a27e690b0a button.colab-df-convert');\n",
              "        buttonEl.style.display =\n",
              "          google.colab.kernel.accessAllowed ? 'block' : 'none';\n",
              "\n",
              "        async function convertToInteractive(key) {\n",
              "          const element = document.querySelector('#df-7ad4a525-b8ea-460c-b0e5-d3a27e690b0a');\n",
              "          const dataTable =\n",
              "            await google.colab.kernel.invokeFunction('convertToInteractive',\n",
              "                                                     [key], {});\n",
              "          if (!dataTable) return;\n",
              "\n",
              "          const docLinkHtml = 'Like what you see? Visit the ' +\n",
              "            '<a target=\"_blank\" href=https://colab.research.google.com/notebooks/data_table.ipynb>data table notebook</a>'\n",
              "            + ' to learn more about interactive tables.';\n",
              "          element.innerHTML = '';\n",
              "          dataTable['output_type'] = 'display_data';\n",
              "          await google.colab.output.renderOutput(dataTable, element);\n",
              "          const docLink = document.createElement('div');\n",
              "          docLink.innerHTML = docLinkHtml;\n",
              "          element.appendChild(docLink);\n",
              "        }\n",
              "      </script>\n",
              "    </div>\n",
              "  </div>\n",
              "  "
            ]
          },
          "metadata": {},
          "execution_count": 4
        }
      ]
    },
    {
      "cell_type": "markdown",
      "source": [
        "**Create a new column in df named Total Goals, and set it equal to the sum of the columns Home Team Goals and Away Team Goals.**"
      ],
      "metadata": {
        "id": "0ypDTcWkcSKC"
      }
    },
    {
      "cell_type": "code",
      "source": [
        "# Sum up both goals column\n",
        "df_data[\"Total_Goals\"] = df_data[[\"Home Team Goals\", \"Away Team Goals\"]].sum(axis=1)\n",
        "df_data.head()"
      ],
      "metadata": {
        "colab": {
          "base_uri": "https://localhost:8080/",
          "height": 629
        },
        "id": "6LkZMz4kRkBD",
        "outputId": "af0f37ac-eb20-4b39-99e5-70f7279287db"
      },
      "execution_count": 15,
      "outputs": [
        {
          "output_type": "stream",
          "name": "stderr",
          "text": [
            "<ipython-input-15-784b3396ef92>:2: SettingWithCopyWarning: \n",
            "A value is trying to be set on a copy of a slice from a DataFrame.\n",
            "Try using .loc[row_indexer,col_indexer] = value instead\n",
            "\n",
            "See the caveats in the documentation: https://pandas.pydata.org/pandas-docs/stable/user_guide/indexing.html#returning-a-view-versus-a-copy\n",
            "  df_data[\"Total_Goals\"] = df_data[[\"Home Team Goals\", \"Away Team Goals\"]].sum(axis=1)\n"
          ]
        },
        {
          "output_type": "execute_result",
          "data": {
            "text/plain": [
              "     Year              Datetime    Stage         Stadium         City  \\\n",
              "0  1930.0  13 Jul 1930 - 15:00   Group 1         Pocitos  Montevideo    \n",
              "1  1930.0  13 Jul 1930 - 15:00   Group 4  Parque Central  Montevideo    \n",
              "2  1930.0  14 Jul 1930 - 12:45   Group 2  Parque Central  Montevideo    \n",
              "3  1930.0  14 Jul 1930 - 14:50   Group 3         Pocitos  Montevideo    \n",
              "4  1930.0  15 Jul 1930 - 16:00   Group 1  Parque Central  Montevideo    \n",
              "\n",
              "  Home Team Name  Home Team Goals  Away Team Goals Away Team Name  \\\n",
              "0         France              4.0              1.0         Mexico   \n",
              "1            USA              3.0              0.0        Belgium   \n",
              "2     Yugoslavia              2.0              1.0         Brazil   \n",
              "3        Romania              3.0              1.0           Peru   \n",
              "4      Argentina              1.0              0.0         France   \n",
              "\n",
              "  Win conditions  ...  Half-time Home Goals  Half-time Away Goals  \\\n",
              "0                 ...                   3.0                   0.0   \n",
              "1                 ...                   2.0                   0.0   \n",
              "2                 ...                   2.0                   0.0   \n",
              "3                 ...                   1.0                   0.0   \n",
              "4                 ...                   0.0                   0.0   \n",
              "\n",
              "                  Referee               Assistant 1  \\\n",
              "0  LOMBARDI Domingo (URU)     CRISTOPHE Henry (BEL)   \n",
              "1       MACIAS Jose (ARG)  MATEUCCI Francisco (URU)   \n",
              "2     TEJADA Anibal (URU)   VALLARINO Ricardo (URU)   \n",
              "3   WARNKEN Alberto (CHI)       LANGENUS Jean (BEL)   \n",
              "4     REGO Gilberto (BRA)      SAUCEDO Ulises (BOL)   \n",
              "\n",
              "                  Assistant 2 RoundID  MatchID  Home Team Initials  \\\n",
              "0         REGO Gilberto (BRA)   201.0   1096.0                 FRA   \n",
              "1       WARNKEN Alberto (CHI)   201.0   1090.0                 USA   \n",
              "2         BALWAY Thomas (FRA)   201.0   1093.0                 YUG   \n",
              "3    MATEUCCI Francisco (URU)   201.0   1098.0                 ROU   \n",
              "4  RADULESCU Constantin (ROU)   201.0   1085.0                 ARG   \n",
              "\n",
              "  Away Team Initials Total_Goals  \n",
              "0                MEX         5.0  \n",
              "1                BEL         3.0  \n",
              "2                BRA         3.0  \n",
              "3                PER         4.0  \n",
              "4                FRA         1.0  \n",
              "\n",
              "[5 rows x 21 columns]"
            ],
            "text/html": [
              "\n",
              "  <div id=\"df-0dc707e1-2a4e-4042-a26c-dc330d62c708\">\n",
              "    <div class=\"colab-df-container\">\n",
              "      <div>\n",
              "<style scoped>\n",
              "    .dataframe tbody tr th:only-of-type {\n",
              "        vertical-align: middle;\n",
              "    }\n",
              "\n",
              "    .dataframe tbody tr th {\n",
              "        vertical-align: top;\n",
              "    }\n",
              "\n",
              "    .dataframe thead th {\n",
              "        text-align: right;\n",
              "    }\n",
              "</style>\n",
              "<table border=\"1\" class=\"dataframe\">\n",
              "  <thead>\n",
              "    <tr style=\"text-align: right;\">\n",
              "      <th></th>\n",
              "      <th>Year</th>\n",
              "      <th>Datetime</th>\n",
              "      <th>Stage</th>\n",
              "      <th>Stadium</th>\n",
              "      <th>City</th>\n",
              "      <th>Home Team Name</th>\n",
              "      <th>Home Team Goals</th>\n",
              "      <th>Away Team Goals</th>\n",
              "      <th>Away Team Name</th>\n",
              "      <th>Win conditions</th>\n",
              "      <th>...</th>\n",
              "      <th>Half-time Home Goals</th>\n",
              "      <th>Half-time Away Goals</th>\n",
              "      <th>Referee</th>\n",
              "      <th>Assistant 1</th>\n",
              "      <th>Assistant 2</th>\n",
              "      <th>RoundID</th>\n",
              "      <th>MatchID</th>\n",
              "      <th>Home Team Initials</th>\n",
              "      <th>Away Team Initials</th>\n",
              "      <th>Total_Goals</th>\n",
              "    </tr>\n",
              "  </thead>\n",
              "  <tbody>\n",
              "    <tr>\n",
              "      <th>0</th>\n",
              "      <td>1930.0</td>\n",
              "      <td>13 Jul 1930 - 15:00</td>\n",
              "      <td>Group 1</td>\n",
              "      <td>Pocitos</td>\n",
              "      <td>Montevideo</td>\n",
              "      <td>France</td>\n",
              "      <td>4.0</td>\n",
              "      <td>1.0</td>\n",
              "      <td>Mexico</td>\n",
              "      <td></td>\n",
              "      <td>...</td>\n",
              "      <td>3.0</td>\n",
              "      <td>0.0</td>\n",
              "      <td>LOMBARDI Domingo (URU)</td>\n",
              "      <td>CRISTOPHE Henry (BEL)</td>\n",
              "      <td>REGO Gilberto (BRA)</td>\n",
              "      <td>201.0</td>\n",
              "      <td>1096.0</td>\n",
              "      <td>FRA</td>\n",
              "      <td>MEX</td>\n",
              "      <td>5.0</td>\n",
              "    </tr>\n",
              "    <tr>\n",
              "      <th>1</th>\n",
              "      <td>1930.0</td>\n",
              "      <td>13 Jul 1930 - 15:00</td>\n",
              "      <td>Group 4</td>\n",
              "      <td>Parque Central</td>\n",
              "      <td>Montevideo</td>\n",
              "      <td>USA</td>\n",
              "      <td>3.0</td>\n",
              "      <td>0.0</td>\n",
              "      <td>Belgium</td>\n",
              "      <td></td>\n",
              "      <td>...</td>\n",
              "      <td>2.0</td>\n",
              "      <td>0.0</td>\n",
              "      <td>MACIAS Jose (ARG)</td>\n",
              "      <td>MATEUCCI Francisco (URU)</td>\n",
              "      <td>WARNKEN Alberto (CHI)</td>\n",
              "      <td>201.0</td>\n",
              "      <td>1090.0</td>\n",
              "      <td>USA</td>\n",
              "      <td>BEL</td>\n",
              "      <td>3.0</td>\n",
              "    </tr>\n",
              "    <tr>\n",
              "      <th>2</th>\n",
              "      <td>1930.0</td>\n",
              "      <td>14 Jul 1930 - 12:45</td>\n",
              "      <td>Group 2</td>\n",
              "      <td>Parque Central</td>\n",
              "      <td>Montevideo</td>\n",
              "      <td>Yugoslavia</td>\n",
              "      <td>2.0</td>\n",
              "      <td>1.0</td>\n",
              "      <td>Brazil</td>\n",
              "      <td></td>\n",
              "      <td>...</td>\n",
              "      <td>2.0</td>\n",
              "      <td>0.0</td>\n",
              "      <td>TEJADA Anibal (URU)</td>\n",
              "      <td>VALLARINO Ricardo (URU)</td>\n",
              "      <td>BALWAY Thomas (FRA)</td>\n",
              "      <td>201.0</td>\n",
              "      <td>1093.0</td>\n",
              "      <td>YUG</td>\n",
              "      <td>BRA</td>\n",
              "      <td>3.0</td>\n",
              "    </tr>\n",
              "    <tr>\n",
              "      <th>3</th>\n",
              "      <td>1930.0</td>\n",
              "      <td>14 Jul 1930 - 14:50</td>\n",
              "      <td>Group 3</td>\n",
              "      <td>Pocitos</td>\n",
              "      <td>Montevideo</td>\n",
              "      <td>Romania</td>\n",
              "      <td>3.0</td>\n",
              "      <td>1.0</td>\n",
              "      <td>Peru</td>\n",
              "      <td></td>\n",
              "      <td>...</td>\n",
              "      <td>1.0</td>\n",
              "      <td>0.0</td>\n",
              "      <td>WARNKEN Alberto (CHI)</td>\n",
              "      <td>LANGENUS Jean (BEL)</td>\n",
              "      <td>MATEUCCI Francisco (URU)</td>\n",
              "      <td>201.0</td>\n",
              "      <td>1098.0</td>\n",
              "      <td>ROU</td>\n",
              "      <td>PER</td>\n",
              "      <td>4.0</td>\n",
              "    </tr>\n",
              "    <tr>\n",
              "      <th>4</th>\n",
              "      <td>1930.0</td>\n",
              "      <td>15 Jul 1930 - 16:00</td>\n",
              "      <td>Group 1</td>\n",
              "      <td>Parque Central</td>\n",
              "      <td>Montevideo</td>\n",
              "      <td>Argentina</td>\n",
              "      <td>1.0</td>\n",
              "      <td>0.0</td>\n",
              "      <td>France</td>\n",
              "      <td></td>\n",
              "      <td>...</td>\n",
              "      <td>0.0</td>\n",
              "      <td>0.0</td>\n",
              "      <td>REGO Gilberto (BRA)</td>\n",
              "      <td>SAUCEDO Ulises (BOL)</td>\n",
              "      <td>RADULESCU Constantin (ROU)</td>\n",
              "      <td>201.0</td>\n",
              "      <td>1085.0</td>\n",
              "      <td>ARG</td>\n",
              "      <td>FRA</td>\n",
              "      <td>1.0</td>\n",
              "    </tr>\n",
              "  </tbody>\n",
              "</table>\n",
              "<p>5 rows × 21 columns</p>\n",
              "</div>\n",
              "      <button class=\"colab-df-convert\" onclick=\"convertToInteractive('df-0dc707e1-2a4e-4042-a26c-dc330d62c708')\"\n",
              "              title=\"Convert this dataframe to an interactive table.\"\n",
              "              style=\"display:none;\">\n",
              "        \n",
              "  <svg xmlns=\"http://www.w3.org/2000/svg\" height=\"24px\"viewBox=\"0 0 24 24\"\n",
              "       width=\"24px\">\n",
              "    <path d=\"M0 0h24v24H0V0z\" fill=\"none\"/>\n",
              "    <path d=\"M18.56 5.44l.94 2.06.94-2.06 2.06-.94-2.06-.94-.94-2.06-.94 2.06-2.06.94zm-11 1L8.5 8.5l.94-2.06 2.06-.94-2.06-.94L8.5 2.5l-.94 2.06-2.06.94zm10 10l.94 2.06.94-2.06 2.06-.94-2.06-.94-.94-2.06-.94 2.06-2.06.94z\"/><path d=\"M17.41 7.96l-1.37-1.37c-.4-.4-.92-.59-1.43-.59-.52 0-1.04.2-1.43.59L10.3 9.45l-7.72 7.72c-.78.78-.78 2.05 0 2.83L4 21.41c.39.39.9.59 1.41.59.51 0 1.02-.2 1.41-.59l7.78-7.78 2.81-2.81c.8-.78.8-2.07 0-2.86zM5.41 20L4 18.59l7.72-7.72 1.47 1.35L5.41 20z\"/>\n",
              "  </svg>\n",
              "      </button>\n",
              "      \n",
              "  <style>\n",
              "    .colab-df-container {\n",
              "      display:flex;\n",
              "      flex-wrap:wrap;\n",
              "      gap: 12px;\n",
              "    }\n",
              "\n",
              "    .colab-df-convert {\n",
              "      background-color: #E8F0FE;\n",
              "      border: none;\n",
              "      border-radius: 50%;\n",
              "      cursor: pointer;\n",
              "      display: none;\n",
              "      fill: #1967D2;\n",
              "      height: 32px;\n",
              "      padding: 0 0 0 0;\n",
              "      width: 32px;\n",
              "    }\n",
              "\n",
              "    .colab-df-convert:hover {\n",
              "      background-color: #E2EBFA;\n",
              "      box-shadow: 0px 1px 2px rgba(60, 64, 67, 0.3), 0px 1px 3px 1px rgba(60, 64, 67, 0.15);\n",
              "      fill: #174EA6;\n",
              "    }\n",
              "\n",
              "    [theme=dark] .colab-df-convert {\n",
              "      background-color: #3B4455;\n",
              "      fill: #D2E3FC;\n",
              "    }\n",
              "\n",
              "    [theme=dark] .colab-df-convert:hover {\n",
              "      background-color: #434B5C;\n",
              "      box-shadow: 0px 1px 3px 1px rgba(0, 0, 0, 0.15);\n",
              "      filter: drop-shadow(0px 1px 2px rgba(0, 0, 0, 0.3));\n",
              "      fill: #FFFFFF;\n",
              "    }\n",
              "  </style>\n",
              "\n",
              "      <script>\n",
              "        const buttonEl =\n",
              "          document.querySelector('#df-0dc707e1-2a4e-4042-a26c-dc330d62c708 button.colab-df-convert');\n",
              "        buttonEl.style.display =\n",
              "          google.colab.kernel.accessAllowed ? 'block' : 'none';\n",
              "\n",
              "        async function convertToInteractive(key) {\n",
              "          const element = document.querySelector('#df-0dc707e1-2a4e-4042-a26c-dc330d62c708');\n",
              "          const dataTable =\n",
              "            await google.colab.kernel.invokeFunction('convertToInteractive',\n",
              "                                                     [key], {});\n",
              "          if (!dataTable) return;\n",
              "\n",
              "          const docLinkHtml = 'Like what you see? Visit the ' +\n",
              "            '<a target=\"_blank\" href=https://colab.research.google.com/notebooks/data_table.ipynb>data table notebook</a>'\n",
              "            + ' to learn more about interactive tables.';\n",
              "          element.innerHTML = '';\n",
              "          dataTable['output_type'] = 'display_data';\n",
              "          await google.colab.output.renderOutput(dataTable, element);\n",
              "          const docLink = document.createElement('div');\n",
              "          docLink.innerHTML = docLinkHtml;\n",
              "          element.appendChild(docLink);\n",
              "        }\n",
              "      </script>\n",
              "    </div>\n",
              "  </div>\n",
              "  "
            ]
          },
          "metadata": {},
          "execution_count": 15
        }
      ]
    },
    {
      "cell_type": "markdown",
      "source": [
        "**Visualize the total number of goals scored in each match.**"
      ],
      "metadata": {
        "id": "qlnxJErmi8eO"
      }
    },
    {
      "cell_type": "code",
      "source": [
        "plt.figure(figsize=(10,8))\n",
        "matches = df_data.groupby(by=[\"Stage\"]).Total_Goals.sum()\n",
        "reset = matches.reset_index()\n",
        "df_data.Total_Goals\n",
        "plt.figure(figsize=(10, 8))\n",
        "sns.barplot(x= \"Total_Goals\", y= \"Stage\", data = reset)\n",
        "plt.title(\"TOTAL NUMBER OF GOALS\", fontdict={\"fontsize\":15});"
      ],
      "metadata": {
        "colab": {
          "base_uri": "https://localhost:8080/",
          "height": 533
        },
        "id": "yCk6e-5HRqkQ",
        "outputId": "b42f4e00-24c0-4df4-e4bc-c4e235dded3f"
      },
      "execution_count": 6,
      "outputs": [
        {
          "output_type": "display_data",
          "data": {
            "text/plain": [
              "<Figure size 720x576 with 0 Axes>"
            ]
          },
          "metadata": {}
        },
        {
          "output_type": "display_data",
          "data": {
            "text/plain": [
              "<Figure size 720x576 with 1 Axes>"
            ],
            "image/png": "[encoded data removed]"
          },
          "metadata": {
            "needs_background": "light"
          }
        }
      ]
    },
    {
      "cell_type": "code",
      "source": [
        "sns.kdeplot(df_data[\"Total_Goals\"], shade=True);"
      ],
      "metadata": {
        "colab": {
          "base_uri": "https://localhost:8080/",
          "height": 280
        },
        "id": "L7JMLE7XZEpW",
        "outputId": "7ef9c9d7-2d03-4c61-8f23-b2edb3d61279"
      },
      "execution_count": 7,
      "outputs": [
        {
          "output_type": "display_data",
          "data": {
            "text/plain": [
              "<Figure size 432x288 with 1 Axes>"
            ],
            "image/png": "[encoded data removed]"
          },
          "metadata": {
            "needs_background": "light"
          }
        }
      ]
    },
    {
      "cell_type": "markdown",
      "source": [
        "**Create a figure and axes for your plot, inside of plt.subplots(), set the size of the figure to be 12 inches wide and 7 inches tall.**"
      ],
      "metadata": {
        "id": "xHW4kEKEdCWd"
      }
    },
    {
      "cell_type": "code",
      "source": [
        "plt.figure(figsize=(15,7))\n",
        "sns.barplot(df_data[\"Year\"], df_data[\"Total_Goals\"]);\n",
        "plt.title(\"Total goals scored between 1930 - 2014\".upper(), fontdict={\"fontsize\":15});\n",
        "\n",
        "plt.show()"
      ],
      "metadata": {
        "colab": {
          "base_uri": "https://localhost:8080/",
          "height": 515
        },
        "id": "n-kIR-FcYRAb",
        "outputId": "c767e498-40a4-4c41-8f34-a58deb3ad2c7"
      },
      "execution_count": 8,
      "outputs": [
        {
          "output_type": "stream",
          "name": "stderr",
          "text": [
            "/usr/local/lib/python3.8/dist-packages/seaborn/_decorators.py:36: FutureWarning: Pass the following variables as keyword args: x, y. From version 0.12, the only valid positional argument will be `data`, and passing other arguments without an explicit keyword will result in an error or misinterpretation.\n",
            "  warnings.warn(\n"
          ]
        },
        {
          "output_type": "display_data",
          "data": {
            "text/plain": [
              "<Figure size 1080x504 with 1 Axes>"
            ],
            "image/png": "[encoded data removed]"
          },
          "metadata": {
            "needs_background": "light"
          }
        }
      ]
    },
    {
      "cell_type": "markdown",
      "source": [
        "***Visualing the the Year and Total goals scored ***"
      ],
      "metadata": {
        "id": "7-ZOYyE0eJXX"
      }
    },
    {
      "cell_type": "code",
      "source": [
        "fig, ax = plt.subplots(figsize=(12, 7))\n",
        "ax.bar(df_data[\"Year\"], df_data[\"Total_Goals\"])\n",
        "ax.set_xlabel(\"Total Goals\")\n",
        "ax.set_ylabel(\"Year\")\n",
        "ax.set_title(\"Total Number of Goals per World Cup\".upper(), fontdict={\"fontsize\":15})"
      ],
      "metadata": {
        "colab": {
          "base_uri": "https://localhost:8080/",
          "height": 477
        },
        "id": "a8G-P080q_cC",
        "outputId": "05aa4f9d-f3bf-4437-c2eb-4b45f39a59a7"
      },
      "execution_count": 9,
      "outputs": [
        {
          "output_type": "execute_result",
          "data": {
            "text/plain": [
              "Text(0.5, 1.0, 'TOTAL NUMBER OF GOALS PER WORLD CUP')"
            ]
          },
          "metadata": {},
          "execution_count": 9
        },
        {
          "output_type": "display_data",
          "data": {
            "text/plain": [
              "<Figure size 864x504 with 1 Axes>"
            ],
            "image/png": "[encoded data removed]"
          },
          "metadata": {
            "needs_background": "light"
          }
        }
      ]
    },
    {
      "cell_type": "markdown",
      "source": [
        "**Create a box plot so you can visualize the distribution of the average goals for each year with a bar chart.**"
      ],
      "metadata": {
        "id": "cbo3EEKRdazw"
      }
    },
    {
      "cell_type": "code",
      "source": [
        "goals_data = pd.read_csv(\"/content/drive/MyDrive/Pandas_INTRO/WorldCupMatches.csv\")\n",
        "avg_goal = df_data.groupby(by=[\"Year\"]).Total_Goals.mean()\n",
        "reset1 = avg_goal.reset_index()\n",
        "reset1\n",
        "\n",
        "plt.figure(figsize=(15, 8))\n",
        "sns.barplot(x=reset1[\"Year\"], y= reset1[\"Total_Goals\"], data = reset1, palette=\"Accent\")\n",
        "plt.title(\"Average goals scored in each Year\".upper(), fontdict={\"fontsize\":15});"
      ],
      "metadata": {
        "colab": {
          "base_uri": "https://localhost:8080/",
          "height": 515
        },
        "id": "YCqd8YUKrepb",
        "outputId": "6a4d846b-9e10-4702-e13d-40a7c5b8029c"
      },
      "execution_count": 14,
      "outputs": [
        {
          "output_type": "display_data",
          "data": {
            "text/plain": [
              "<Figure size 1080x576 with 1 Axes>"
            ],
            "image/png": "[encoded data removed]"
          },
          "metadata": {
            "needs_background": "light"
          }
        }
      ]
    }
  ]
}